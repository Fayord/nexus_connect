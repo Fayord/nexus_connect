{
 "cells": [
  {
   "cell_type": "code",
   "execution_count": 20,
   "metadata": {},
   "outputs": [],
   "source": [
    "import re\n",
    "from langchain.embeddings import OpenAIEmbeddings\n",
    "from chromadb.utils import embedding_functions\n",
    "import uuid\n",
    "import os\n",
    "import openai\n",
    "from dotenv import load_dotenv\n",
    "import pandas as pd\n",
    "\n",
    "credential_path = \"../../.credential\"\n",
    "assert os.path.exists(credential_path)\n",
    "load_dotenv(credential_path)\n",
    "\n",
    "openai.api_key = os.environ[\"OPENAI_API_KEY\"]\n",
    "# client = chromadb.Client(chroma_setting)\n",
    "from chromadb import HttpClient\n",
    "\n",
    "client = HttpClient()"
   ]
  },
  {
   "cell_type": "code",
   "execution_count": null,
   "metadata": {},
   "outputs": [],
   "source": []
  },
  {
   "cell_type": "code",
   "execution_count": 21,
   "metadata": {},
   "outputs": [],
   "source": [
    "preprocessed_data_folder = \"../preprocessed_data\"\n",
    "chunk_size = 600"
   ]
  },
  {
   "cell_type": "code",
   "execution_count": 22,
   "metadata": {},
   "outputs": [],
   "source": [
    "from transformers import GPT2TokenizerFast\n",
    "from langchain.text_splitter import RecursiveCharacterTextSplitter\n",
    "import tiktoken\n",
    "\n",
    "\n",
    "def count_tokens(text, model=\"gpt-3.5-turbo\"):\n",
    "    encoding = tiktoken.encoding_for_model(model)\n",
    "\n",
    "    return len(encoding.encode(text))\n",
    "\n",
    "\n",
    "openai_ef = embedding_functions.OpenAIEmbeddingFunction(\n",
    "    api_key=os.getenv(\"OPENAI_API_KEY\", \"missing openai api key\"),\n",
    "    model_name=\"text-embedding-ada-002\",\n",
    ")"
   ]
  },
  {
   "cell_type": "code",
   "execution_count": 23,
   "metadata": {},
   "outputs": [
    {
     "data": {
      "text/plain": [
       "['air_purifier_electrolux',\n",
       " 'air_purifier_philips',\n",
       " 'air_purifier_xiaomi',\n",
       " 'electric_fan_hatari',\n",
       " 'electric_fan_sharp',\n",
       " 'electric_fan_toshiba',\n",
       " 'floral_embroidered_mini_dress',\n",
       " 'jaspal_x_kenny_scharf_blobzr_me_t-shirt',\n",
       " 'refrigerator_haier',\n",
       " 'refrigerator_samsung',\n",
       " 'refrigerator_sharp',\n",
       " 'tourist_visa',\n",
       " 'tv_lg',\n",
       " 'tv_samsung',\n",
       " 'tv_sony',\n",
       " 'washing_machine_haier',\n",
       " 'washing_machine_lg',\n",
       " 'washing_machine_samsung']"
      ]
     },
     "metadata": {},
     "output_type": "display_data"
    },
    {
     "data": {
      "text/plain": [
       "['floral_embroidered_mini_dress', 'jaspal_x_kenny_scharf_blobzr_me_t-shirt']"
      ]
     },
     "execution_count": 23,
     "metadata": {},
     "output_type": "execute_result"
    }
   ],
   "source": [
    "\n",
    "product_name_list = os.listdir(preprocessed_data_folder)\n",
    "product_name_list.remove(\"product_a\")\n",
    "product_name_list.sort()\n",
    "display(product_name_list)\n",
    "# product_name_list = [\"washing_machine_haier\",\"air_purifier_electrolux\"]\n",
    "# remove = [\"washing_machine_haier\",\"air_purifier_electrolux\"]\n",
    "# for i in remove:\n",
    "#     product_name_list.remove(i)\n",
    "# product_name_list = [\"tourist_visa\"]\n",
    "product_name_list = ['floral_embroidered_mini_dress',\n",
    " 'jaspal_x_kenny_scharf_blobzr_me_t-shirt',]\n",
    "product_name_list"
   ]
  },
  {
   "cell_type": "code",
   "execution_count": null,
   "metadata": {},
   "outputs": [],
   "source": []
  },
  {
   "cell_type": "code",
   "execution_count": null,
   "metadata": {},
   "outputs": [],
   "source": []
  },
  {
   "cell_type": "code",
   "execution_count": 31,
   "metadata": {},
   "outputs": [
    {
     "name": "stdout",
     "output_type": "stream",
     "text": [
      "floral_embroidered_mini_dress\n",
      "jaspal_x_kenny_scharf_blobzr_me_t-shirt\n"
     ]
    }
   ],
   "source": [
    "\n",
    "def extract_numeric_part(filename):\n",
    "    # Use regular expression to extract the numeric part of the filename\n",
    "    match = re.search(r\"\\d+\", filename)\n",
    "    if match:\n",
    "        return int(match.group())\n",
    "    return None\n",
    "\n",
    "\n",
    "# Step 4: Split text into chunks\n",
    "text_splitter = RecursiveCharacterTextSplitter(\n",
    "    # Set a really small chunk size, just to show.\n",
    "    # chunk_size=300,\n",
    "    chunk_size=chunk_size,\n",
    "    chunk_overlap=100,\n",
    "    length_function=count_tokens,\n",
    ")\n",
    "for product_name in product_name_list:\n",
    "    print(product_name)\n",
    "    brand = product_name.split(\"_\")[-1]\n",
    "    product = product_name.replace(\"_\" + brand, \"\")\n",
    "\n",
    "    product_path = os.path.join(preprocessed_data_folder, product_name)\n",
    "    text_file_name_list = os.listdir(product_path)\n",
    "    # .txt only\n",
    "\n",
    "    text_file_name_list = [i for i in text_file_name_list if i.endswith(\".txt\")]\n",
    "\n",
    "    # print(text_file_name_list)\n",
    "\n",
    "    # Sort the file names based on the numeric part\n",
    "    text_file_name_list = sorted(text_file_name_list, key=extract_numeric_part)\n",
    "    meta_data_list = []\n",
    "    text_list = []\n",
    "\n",
    "    for ind, text_file_name in enumerate(text_file_name_list):\n",
    "        text_path = os.path.join(\n",
    "            product_path, text_file_name.split(\".\")[0] + \".txt\"\n",
    "        )\n",
    "\n",
    "        with open(text_path, \"r\") as f:\n",
    "            text = f.read()\n",
    "\n",
    "        meta_data = {\n",
    "            \"page_index\": ind + 1,\n",
    "            \"brand\": brand,\n",
    "            \"product\": product,\n",
    "        }\n",
    "        # meta_data = {\"hellow\": ind+1}\n",
    "        text_list.append(text)\n",
    "        meta_data_list.append(meta_data)\n",
    "    chunks = text_splitter.create_documents(text_list, meta_data_list)\n",
    "\n",
    "    new_text_list = []\n",
    "    new_meta_data_list = []\n",
    "    for chunk in chunks:\n",
    "        new_text_list.append(chunk.page_content)\n",
    "        new_meta_data_list.append(chunk.metadata)\n",
    "    collection = client.get_or_create_collection(\n",
    "        name=product_name, embedding_function=openai_ef\n",
    "    )\n",
    "    collection.add(\n",
    "        documents=new_text_list,  # we handle tokenization, embedding, and indexing automatically. You can skip that and add your own embeddings as well\n",
    "        metadatas=new_meta_data_list,  # filter on these!\n",
    "        ids=[f\"doc_{i+1}_{uuid.uuid4}\" for i in range(len(new_text_list))],  # unique for each doc\n",
    "    )"
   ]
  },
  {
   "cell_type": "code",
   "execution_count": null,
   "metadata": {},
   "outputs": [],
   "source": []
  },
  {
   "cell_type": "code",
   "execution_count": null,
   "metadata": {},
   "outputs": [],
   "source": []
  },
  {
   "cell_type": "code",
   "execution_count": 7,
   "metadata": {},
   "outputs": [],
   "source": [
    "text_list = []\n",
    "meta_data_list = []\n",
    "for chunk in chunks:\n",
    "    text_list.append(chunk.page_content)\n",
    "    meta_data_list.append(chunk.metadata)"
   ]
  },
  {
   "cell_type": "code",
   "execution_count": 28,
   "metadata": {},
   "outputs": [
    {
     "data": {
      "text/plain": [
       "[Collection(name=refrigerator_samsung),\n",
       " Collection(name=air_purifier_xiaomi),\n",
       " Collection(name=tourist_visa),\n",
       " Collection(name=electric_fan_hatari),\n",
       " Collection(name=washing_machine_haier),\n",
       " Collection(name=floral_embroidered_mini_dress),\n",
       " Collection(name=electric_fan_sharp),\n",
       " Collection(name=washing_machine_lg),\n",
       " Collection(name=tv_samsung),\n",
       " Collection(name=refrigerator_haier),\n",
       " Collection(name=air_purifier_electrolux),\n",
       " Collection(name=air_purifier_philips),\n",
       " Collection(name=jaspal_x_kenny_scharf_blobzr_me_t-shirt),\n",
       " Collection(name=tv_sony),\n",
       " Collection(name=washing_machine_samsung),\n",
       " Collection(name=refrigerator_sharp),\n",
       " Collection(name=electric_fan_toshiba),\n",
       " Collection(name=tv_lg)]"
      ]
     },
     "execution_count": 28,
     "metadata": {},
     "output_type": "execute_result"
    }
   ],
   "source": [
    "list_collections = client.list_collections()\n",
    "list_collections"
   ]
  },
  {
   "cell_type": "code",
   "execution_count": 29,
   "metadata": {},
   "outputs": [
    {
     "data": {
      "text/plain": [
       "{'ids': ['doc_1_<function uuid4 at 0x104d4e290>'],\n",
       " 'embeddings': None,\n",
       " 'metadatas': [{'brand': 'dress',\n",
       "   'page_index': 1,\n",
       "   'product': 'floral_embroidered_mini'}],\n",
       " 'documents': ['color: black\\ncolor: beige\\nsize: XS\\nsize: S\\nsize: M\\nsize: L\\nsize: XL\\nprice: ฿2,295.00\\nproduct_name: \\nFloral Embroidered Mini Dress \\ndiv_value: Add some beautiful botanicals to your closet with this mini dress. It features floral embroidery, a V-neckline, a sleeveless design, slash pockets, and a back zip fastening. Match it with heels to finish the look. Perfect for wearing to a date or a caf?. Available in black or beige.\\nsize_chart_for_recommend: size xs chest 30-32 inch waist 23-25 inch hip 33.5-35.5 inch\\nsize_chart_for_recommend: size xs chest 77-81 cm waist 59-63 cm hip 86-90 cm\\nsize_chart_for_recommend: size s chest 32-34 inch waist 25-27 inch hip 35.5-37.5 inch\\nsize_chart_for_recommend: size s chest 82-86 cm waist 64-68 cm hip 91-95 cm\\nsize_chart_for_recommend: size m chest 34-36 inch waist 27-29 inch hip 37.5-39.5 inch\\nsize_chart_for_recommend: size m chest 87-91 cm waist 69-73 cm hip 96-100 cm\\nsize_chart_for_recommend: size l chest 36-38 inch waist 29-31 inch hip 39.5-41.5 inch\\nsize_chart_for_recommend: size l chest 92-96 cm waist 74-78 cm hip 101-105 cm\\nsize_chart_for_recommend: size xl chest 38-41 inch waist 31-33 inch hip 42.5-44.5 inch\\nsize_chart_for_recommend: size xl chest 97-99 cm waist 79-81 cm hip 106-108 cm\\nsize_chart_for_recommend: the measurement in the guide is based on measurement taken directly on the body, not the garment. if your measurement is between two sizes, we recommend you select the larger size.']}"
      ]
     },
     "execution_count": 29,
     "metadata": {},
     "output_type": "execute_result"
    }
   ],
   "source": [
    "client.get_collection(\"tourist_visa\").get()\n",
    "client.get_collection(\"floral_embroidered_mini_dress\").get()"
   ]
  },
  {
   "cell_type": "code",
   "execution_count": 40,
   "metadata": {},
   "outputs": [
    {
     "ename": "RuntimeError",
     "evalue": "No active exception to reraise",
     "output_type": "error",
     "traceback": [
      "\u001b[0;31m---------------------------------------------------------------------------\u001b[0m",
      "\u001b[0;31mRuntimeError\u001b[0m                              Traceback (most recent call last)",
      "Cell \u001b[0;32mIn[40], line 1\u001b[0m\n\u001b[0;32m----> 1\u001b[0m \u001b[39mraise\u001b[39;00m\n",
      "\u001b[0;31mRuntimeError\u001b[0m: No active exception to reraise"
     ]
    }
   ],
   "source": [
    "raise"
   ]
  },
  {
   "cell_type": "code",
   "execution_count": 30,
   "metadata": {},
   "outputs": [],
   "source": [
    "# 'floral_embroidered_mini_dress', 'jaspal_x_kenny_scharf_blobzr_me_t-shirt'\n",
    "# client.delete_collection(\"floral_embroidered_mini_dress\")\n",
    "# client.delete_collection(\"jaspal_x_kenny_scharf_blobzr_me_t-shirt\")\n",
    "# client.delete_collection(\"tv_sony\")\n",
    "\n",
    "# #set ALLOW_RESET=TRUE \n",
    "# import os   \n",
    "# for collection in list_collections:\n",
    "#     client.delete_collection(collection.name)"
   ]
  },
  {
   "cell_type": "code",
   "execution_count": 17,
   "metadata": {},
   "outputs": [
    {
     "data": {
      "text/plain": [
       "Collection(name=tv_sony)"
      ]
     },
     "execution_count": 17,
     "metadata": {},
     "output_type": "execute_result"
    }
   ],
   "source": [
    "db = client.get_collection(\"tv_sony\")\n",
    "db"
   ]
  },
  {
   "cell_type": "code",
   "execution_count": 22,
   "metadata": {},
   "outputs": [],
   "source": [
    "import chromadb\n",
    "\n",
    "def get_chromadb_setting():\n",
    "    setting = chromadb.config.Settings()\n",
    "    return setting\n",
    "from langchain.vectorstores import Chroma\n",
    "embeddings=OpenAIEmbeddings()\n",
    "\n",
    "collection_name = \"tv_sony\"\n",
    "db = Chroma(\n",
    "        collection_name=collection_name,\n",
    "        client=chromadb.HttpClient(\n",
    "            host=\"localhost\", settings=get_chromadb_setting()\n",
    "        ),\n",
    "        embedding_function=embeddings,\n",
    "    )\n"
   ]
  },
  {
   "cell_type": "code",
   "execution_count": 23,
   "metadata": {},
   "outputs": [],
   "source": [
    "query = \"มีช่อง HDMI กี่ช่อง\"\n",
    "docs = db.similarity_search(query)"
   ]
  },
  {
   "cell_type": "code",
   "execution_count": 26,
   "metadata": {},
   "outputs": [
    {
     "name": "stdout",
     "output_type": "stream",
     "text": [
      "คมชัดระดับ 4K HDR ให้ภาพสมจริงขึ้นไปอีกระดับ ให้สีสัน ความมืด และความสว่างที่ถูกต้องระบบประมวลผลภาพ 4K X-Reality PRO เพิ่มความคมชัด และ 4K Resolution เพื่อเพิ่มความละเอียดของภาพชิปประมวลผล 4K processor X1 ที่ทำให้ภาพมีคุณภาพและมิติระบบปฏิบัติการ Google TV สามารถออกคำสั่งทีวีด้วยเสียงภาษาไทยโดยไม่จำเป็นต้องใช้รีโมทสามารถเชื่อมเนื้อหาบนโทรศัพท์มือถือทั้ง Android และ IOS ในการรองรับ Chrome cast และ Apple Airplayสั่งงานเครื่องใช้ไฟฟ้าอื่นๆ ในบ้านที่รองรับระบบ IOT โดยผ่าน Apple Homekitจัดระเบียบสายต่าง ๆ ที่เชื่อมต่อกับทีวีให้ดูเป็นระเบียบสวยงามด้วย Cable managementความจุภายใน 16 GB (พื้นที่บางส่วนอาจถูกใช้งานเพื่อข้อมูลในส่วนของระบบปฏิบัติการและแอปพลิเคชั่น)กำลังเสียงของลำโพง 10W+10W และ รองรับ Digital TV (DVB –T2)\n",
      "\n",
      "- แบรนด์: SONY\n",
      "- ซีรีส์: X75\n",
      "- ความสูง: 66.2 ซม.\n",
      "- ความกว้าง: 112.7 ซม.\n",
      "- ความลึก: 7.7 ซม.\n",
      "- น้ำหนัก: 9.8 กก.\n",
      "- ขนาดหน้าจอ: 50 นิ้ว\n",
      "- ความละเอียดหน้าจอ: 4K (2160P)\n",
      "- ชนิดหน้าจอ: LED\n",
      "- DIGITAL TV BUILT IN: YES\n",
      "- SMART TV: ANDROID TV\n",
      "- HDR FORMAT: HDR10\n",
      "- HDMI ports (ช่อง): 3\n",
      "- USB ports (ช่อง): 2\n",
      "- ประเภทรีโมท: NORMAL REMOTE\n",
      "- ความลึก TV รวมขาตั้ง: 23.1 ซม.\n",
      "- ความสูง TV รวมขาตั้ง: 70.6 ซม.\n",
      "- การรับประกัน: 3 ปี\n",
      "รายละเอียดสินค้า: แอลอีดีทีวี 50\" SONY (4K, LED, Google TV) KD-50X75K\n",
      "\n",
      "ราคาเริ่มต้น: 19,990 บาท\n",
      "ราคาลด/ราคาโปรโมชั่น: 17,540 บาท\n",
      "ขนาด: 55\"\n",
      "ขนาด: 65\"\n",
      "ขนาด: 50\"\n",
      "ขนาด: 43\"\n",
      "คำอธิบายสินค้า: คมชัดระดับ 4K HDR ให้ภาพสมจริงขึ้นไปอีกระดับ ให้สีสัน ความมืด และความสว่างที่ถูกต้อง\n",
      "คำอธิบายสินค้า: ระบบประมวลผลภาพ 4K X-Reality PRO เพิ่มความคมชัด และ 4K Resolution เพื่อเพิ่มความละเอียดของภาพ\n",
      "คำอธิบายสินค้า: ชิปประมวลผล 4K processor X1 ที่ทำให้ภาพมีคุณภาพและมิติ\n",
      "\n",
      "- ความสูง TV รวมขาตั้ง: 70.6 ซม.\n",
      "- การรับประกัน: 3 ปี\n",
      "รายละเอียดสินค้า: แอลอีดีทีวี 50\" SONY (4K, LED, Google TV) KD-50X75K\n",
      "ในวันพักผ่อนอยู่บ้านสบาย ๆ จะมีอะไรที่ดีไปกว่าการมีทีวีตอบโจทย์ทุกความต้องการของคุณอย่าง LED TV รุ่น KD-50X75K ขนาด 50 นิ้ว จาก SONY ที่ให้ภาพคมชัดระดับ 4K HDR ขับเคลื่อนโดยชิปประมวลผล 4K HDR Processor X1 ที่มอบภาพที่มีคอนทราสต์สมจริง ให้ความมืด ความสว่างที่ถูกต้องตรงปก พร้อมชิปประมวลผล 4K processor X1 เพื่อให้ภาพมีมิติ และเพิ่มความสนุกอีกขั้นด้วยการรองรับระบบปฏิบัติการ Google TV, Chorome cast และ Apple Airplay โดยสามารถเชื่อมต่อกับมือถือและแทบเล็ตได้อย่างง่ายดาย สามารถเรียกดูภาพยนตร์และรายการทีวีจากสตรีมมิ่งของคุณทั้งหมดในที่เดียว\n",
      "\n"
     ]
    }
   ],
   "source": [
    "for doc in docs:\n",
    "    print(doc.page_content)\n",
    "    print()"
   ]
  },
  {
   "cell_type": "code",
   "execution_count": null,
   "metadata": {},
   "outputs": [],
   "source": []
  }
 ],
 "metadata": {
  "kernelspec": {
   "display_name": "Python 3",
   "language": "python",
   "name": "python3"
  },
  "language_info": {
   "codemirror_mode": {
    "name": "ipython",
    "version": 3
   },
   "file_extension": ".py",
   "mimetype": "text/x-python",
   "name": "python",
   "nbconvert_exporter": "python",
   "pygments_lexer": "ipython3",
   "version": "3.10.13"
  },
  "orig_nbformat": 4
 },
 "nbformat": 4,
 "nbformat_minor": 2
}
