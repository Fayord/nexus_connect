{
 "cells": [
  {
   "cell_type": "code",
   "execution_count": 313,
   "metadata": {},
   "outputs": [],
   "source": [
    "from bs4 import BeautifulSoup as bs\n",
    "import requests\n",
    "\n",
    "import pandas as pd\n"
   ]
  },
  {
   "cell_type": "code",
   "execution_count": 314,
   "metadata": {},
   "outputs": [],
   "source": [
    "# refrigerator\n",
    "url = \"https://www.homepro.co.th/p/1160156\" #Haier \n",
    "product_id = \"refrigerator_haier\"\n",
    "url = \"https://www.homepro.co.th/p/1169585\" #Samsung\n",
    "product_id = \"refrigerator_samsung\"\n",
    "url = \"https://www.homepro.co.th/p/1214093\" #Sharp\n",
    "product_id = \"refrigerator_sharp\"\n",
    "\n",
    "# washing machine\n",
    "url = \"https://www.homepro.co.th/p/1159197\" #LG\n",
    "product_id = \"washing_machine_lg\"\n",
    "url = \"https://www.homepro.co.th/p/1202068\" # Haier\n",
    "product_id = \"washing_machine_haier\"\n",
    "url = \"https://www.homepro.co.th/p/1167237\" # Samsung\n",
    "product_id = \"washing_machine_samsung\"\n",
    "\n",
    "# electric fan\n",
    "url = \"https://www.homepro.co.th/p/1189082\" # sharp\n",
    "product_id = \"electric_fan_sharp\"\n",
    "url = \"https://www.homepro.co.th/p/1181304\" # toshiba\n",
    "product_id = \"electric_fan_toshiba\"\n",
    "url = \"https://www.homepro.co.th/p/1187900\" # hatari\n",
    "product_id = \"electric_fan_hatari\"\n",
    "\n",
    "# air purifier\n",
    "url = \"https://www.homepro.co.th/p/1116625\" # PHILIPS\n",
    "product_id = \"air_purifier_philips\"\n",
    "url = \"https://www.homepro.co.th/p/1191239\" # Electrolux\n",
    "product_id = \"air_purifier_electrolux\"\n",
    "url = \"https://www.homepro.co.th/p/1220437\" # xiaomi\n",
    "product_id = \"air_purifier_xiaomi\"\n",
    "\n",
    "# TV \n",
    "url = \"https://www.homepro.co.th/p/1234631\" # LG\n",
    "product_id = \"tv_lg\"\n",
    "url = \"https://www.homepro.co.th/p/1172789\" # Samsung\n",
    "product_id = \"tv_samsung\"\n",
    "url =\"https://www.homepro.co.th/p/1206489\" # sony\n",
    "product_id = \"tv_sony\"\n",
    "\n",
    "\n",
    "\n",
    "DEBUG = False\n",
    "\n"
   ]
  },
  {
   "cell_type": "code",
   "execution_count": 315,
   "metadata": {},
   "outputs": [],
   "source": [
    "\n",
    "data_dict = {}\n",
    "r = requests.get(url)\n",
    "soup = bs(r.content, \"html.parser\")\n",
    "if DEBUG:\n",
    "    print(soup.prettify())"
   ]
  },
  {
   "cell_type": "code",
   "execution_count": 316,
   "metadata": {},
   "outputs": [
    {
     "name": "stdout",
     "output_type": "stream",
     "text": [
      "Original Price: 19,990 บาท\n",
      "Discounted Price: 17,540 บาท\n"
     ]
    }
   ],
   "source": [
    "# find  id = product_price_container\n",
    "product_price_container = soup.find(\"table\", {\"id\": \"product_price_container\"})\n",
    "if DEBUG:\n",
    "    print(product_price_container.prettify())\n",
    "original_price_element = product_price_container.find('div', id='prod-realprice')\n",
    "discounted_price_element = product_price_container.find('div', id='prod-price')\n",
    "\n",
    "# Extract the prices\n",
    "original_price = original_price_element.find('span', class_='amount').text\n",
    "discounted_price = discounted_price_element.find('span', class_='amount').text\n",
    "data_dict[\"original_price\"] = f\"{original_price} บาท\"\n",
    "data_dict[\"discounted_price\"] = f\"{discounted_price} บาท\"\n",
    "print(f\"Original Price: {original_price} บาท\")\n",
    "print(f\"Discounted Price: {discounted_price} บาท\")\n"
   ]
  },
  {
   "cell_type": "code",
   "execution_count": 317,
   "metadata": {},
   "outputs": [
    {
     "data": {
      "text/plain": [
       "['คมชัดระดับ 4K HDR ให้ภาพสมจริงขึ้นไปอีกระดับ ให้สีสัน ความมืด และความสว่างที่ถูกต้อง',\n",
       " 'ระบบประมวลผลภาพ 4K X-Reality PRO เพิ่มความคมชัด และ 4K Resolution เพื่อเพิ่มความละเอียดของภาพ',\n",
       " 'ชิปประมวลผล 4K processor X1 ที่ทำให้ภาพมีคุณภาพและมิติ']"
      ]
     },
     "execution_count": 317,
     "metadata": {},
     "output_type": "execute_result"
    }
   ],
   "source": [
    "# find ul class = product-desc\n",
    "product_desc = soup.find(\"ul\", {\"class\": \"product-desc\"})\n",
    "if DEBUG:\n",
    "    print(product_desc)\n",
    "product_desc_list = []\n",
    "if product_desc:\n",
    "    list_items = product_desc.find_all('li')\n",
    "    for item in list_items:\n",
    "        # print(item.get_text().strip())\n",
    "        product_desc_list.append(item.get_text().strip())\n",
    "data_dict[\"product_desc\"] = product_desc_list\n",
    "product_desc_list\n"
   ]
  },
  {
   "cell_type": "code",
   "execution_count": 318,
   "metadata": {},
   "outputs": [
    {
     "name": "stdout",
     "output_type": "stream",
     "text": [
      "['ขนาด', '55\"', '65\"', '50\"', '43\"']\n"
     ]
    }
   ],
   "source": [
    "# find div class = product-grouping\n",
    "product_grouping = soup.find(\"div\", {\"class\": \"product-grouping\"})\n",
    "if product_grouping is not None:\n",
    "    # print(product_grouping)\n",
    "    if DEBUG:\n",
    "        print(product_grouping.prettify())\n",
    "    grouping_list = product_grouping.findAll('div', class_='grouping')\n",
    "\n",
    "\n",
    "    import re \n",
    "    # Use regular expression to find the text between > and <\n",
    "    pattern = r'>(.*?)<'\n",
    "\n",
    "    # Search for the pattern in the HTML\n",
    "\n",
    "    for grouping in grouping_list:\n",
    "        matches = re.findall(pattern,str(grouping))\n",
    "        data_dict[matches[0]] = matches[1:]\n",
    "        print(matches)"
   ]
  },
  {
   "cell_type": "code",
   "execution_count": 319,
   "metadata": {},
   "outputs": [
    {
     "data": {
      "text/plain": [
       "['แอลอีดีทีวี 50\" SONY (4K, LED, Google TV) KD-50X75K\\nในวันพักผ่อนอยู่บ้านสบาย ๆ จะมีอะไรที่ดีไปกว่าการมีทีวีตอบโจทย์ทุกความต้องการของคุณอย่าง LED TV รุ่น KD-50X75K ขนาด 50 นิ้ว จาก SONY ที่ให้ภาพคมชัดระดับ 4K HDR ขับเคลื่อนโดยชิปประมวลผล 4K HDR Processor X1 ที่มอบภาพที่มีคอนทราสต์สมจริง ให้ความมืด ความสว่างที่ถูกต้องตรงปก พร้อมชิปประมวลผล 4K processor X1 เพื่อให้ภาพมีมิติ และเพิ่มความสนุกอีกขั้นด้วยการรองรับระบบปฏิบัติการ Google TV, Chorome cast และ Apple Airplay โดยสามารถเชื่อมต่อกับมือถือและแทบเล็ตได้อย่างง่ายดาย สามารถเรียกดูภาพยนตร์และรายการทีวีจากสตรีมมิ่งของคุณทั้งหมดในที่เดียว',\n",
       " 'คุณสมบัติ\\n\\nคมชัดระดับ 4K HDR ให้ภาพสมจริงขึ้นไปอีกระดับ ให้สีสัน ความมืด และความสว่างที่ถูกต้องระบบประมวลผลภาพ 4K X-Reality PRO เพิ่มความคมชัด และ 4K Resolution เพื่อเพิ่มความละเอียดของภาพชิปประมวลผล 4K processor X1 ที่ทำให้ภาพมีคุณภาพและมิติระบบปฏิบัติการ Google TV สามารถออกคำสั่งทีวีด้วยเสียงภาษาไทยโดยไม่จำเป็นต้องใช้รีโมทสามารถเชื่อมเนื้อหาบนโทรศัพท์มือถือทั้ง Android และ IOS ในการรองรับ Chrome cast และ Apple Airplayสั่งงานเครื่องใช้ไฟฟ้าอื่นๆ ในบ้านที่รองรับระบบ IOT โดยผ่าน Apple Homekitจัดระเบียบสายต่าง ๆ ที่เชื่อมต่อกับทีวีให้ดูเป็นระเบียบสวยงามด้วย Cable managementความจุภายใน 16 GB (พื้นที่บางส่วนอาจถูกใช้งานเพื่อข้อมูลในส่วนของระบบปฏิบัติการและแอปพลิเคชั่น)กำลังเสียงของลำโพง 10W+10W และ รองรับ Digital TV (DVB –T2)',\n",
       " 'วิธีใช้งาน\\n\\nใช้สำหรับรับชมเพื่อความบันเทิง',\n",
       " 'คำแนะนำ\\n\\nศึกษาคู่มือการติดตั้ง และวิธีการใช้งานอย่างละเอียด',\n",
       " 'ข้อควรระวัง\\n\\nห้ามวางวัตถุในบริเวณที่เต็มไปด้วยของเหลวห้ามปิดกั้นหรือปิดช่องระบายอากาศด้วยผ้า หรือวัสดุอื่น ๆห้ามวางทีวีบนเตียง โซฟา พรมปูพื้น หรือวัสดุอื่นๆ ที่มีลักษณะคล้ายกันห้ามสัมผัส หรือเสียบสายไฟด้วยมือเปียก เพราะอาจทำให้เกิดไฟฟ้าช็อตได้ห้ามวางทีวีในตำแหน่งที่สายไฟสามารถหนีบ งอ บิด หรือจับได้ง่าย\\n\\n\\n\\nเงื่อนไขเพิ่มเติม\\nหมายเหตุ : สินค้าที่จัดส่ง และติดตั้งแล้ว ขอสงวนสิทธิ์ให้อยู่ในเงื่อนไขรับประกันซ่อมสินค้า ไม่รับเปลี่ยนหรือคืนสินค้าทุกกรณี']"
      ]
     },
     "execution_count": 319,
     "metadata": {},
     "output_type": "execute_result"
    }
   ],
   "source": [
    "product_info_div = soup.find('div', id='product-information')\n",
    "if DEBUG:\n",
    "    print(product_info_div.prettify())\n",
    "product_info_div_split = str(product_info_div).split('<b>')\n",
    "product_info_list = []\n",
    "for ind,product_info_div_split_item in enumerate(product_info_div_split):\n",
    "    if DEBUG:\n",
    "        print(\"ind\",ind,\"product_info_div_split_item\",product_info_div_split_item)\n",
    "    product_info_div_split_item = \"<b>\" + product_info_div_split_item\n",
    "\n",
    "    product_info_div_split_item = bs(product_info_div_split_item, 'html.parser')\n",
    "    text = product_info_div_split_item.get_text()\n",
    "    \n",
    "    product_info_list.append(text.strip())\n",
    "data_dict['product_info_list'] = product_info_list\n",
    "product_info_list\n",
    "\n",
    "\n"
   ]
  },
  {
   "cell_type": "code",
   "execution_count": 320,
   "metadata": {},
   "outputs": [
    {
     "name": "stdout",
     "output_type": "stream",
     "text": [
      "<class 'bs4.element.Tag'>\n"
     ]
    },
    {
     "data": {
      "text/html": [
       "<div>\n",
       "<style scoped>\n",
       "    .dataframe tbody tr th:only-of-type {\n",
       "        vertical-align: middle;\n",
       "    }\n",
       "\n",
       "    .dataframe tbody tr th {\n",
       "        vertical-align: top;\n",
       "    }\n",
       "\n",
       "    .dataframe thead th {\n",
       "        text-align: right;\n",
       "    }\n",
       "</style>\n",
       "<table border=\"1\" class=\"dataframe\">\n",
       "  <thead>\n",
       "    <tr style=\"text-align: right;\">\n",
       "      <th></th>\n",
       "      <th>Attribute</th>\n",
       "      <th>Value</th>\n",
       "    </tr>\n",
       "  </thead>\n",
       "  <tbody>\n",
       "    <tr>\n",
       "      <th>0</th>\n",
       "      <td>แบรนด์</td>\n",
       "      <td>SONY</td>\n",
       "    </tr>\n",
       "    <tr>\n",
       "      <th>1</th>\n",
       "      <td>ซีรีส์</td>\n",
       "      <td>X75</td>\n",
       "    </tr>\n",
       "    <tr>\n",
       "      <th>2</th>\n",
       "      <td>ความสูง (ซม.)</td>\n",
       "      <td>66.2</td>\n",
       "    </tr>\n",
       "    <tr>\n",
       "      <th>3</th>\n",
       "      <td>ความกว้าง (ซม.)</td>\n",
       "      <td>112.7</td>\n",
       "    </tr>\n",
       "    <tr>\n",
       "      <th>4</th>\n",
       "      <td>ความลึก (ซม.)</td>\n",
       "      <td>7.7</td>\n",
       "    </tr>\n",
       "  </tbody>\n",
       "</table>\n",
       "</div>"
      ],
      "text/plain": [
       "         Attribute  Value\n",
       "0           แบรนด์   SONY\n",
       "1           ซีรีส์    X75\n",
       "2    ความสูง (ซม.)   66.2\n",
       "3  ความกว้าง (ซม.)  112.7\n",
       "4    ความลึก (ซม.)    7.7"
      ]
     },
     "execution_count": 320,
     "metadata": {},
     "output_type": "execute_result"
    }
   ],
   "source": [
    "# find div class = product-specification\n",
    "product_specification = soup.find(\"div\", {\"id\": \"product-specification\"})\n",
    "print(type(product_specification))\n",
    "if DEBUG:\n",
    "    print(product_specification)\n",
    "\n",
    "import pandas as pd\n",
    "# Convert the table to a DataFrame\n",
    "df = pd.read_html(str(product_specification), header=0)[0]\n",
    "df.columns = ['Attribute', 'Value']\n",
    "df.head()"
   ]
  },
  {
   "cell_type": "code",
   "execution_count": 321,
   "metadata": {},
   "outputs": [
    {
     "data": {
      "text/html": [
       "<div>\n",
       "<style scoped>\n",
       "    .dataframe tbody tr th:only-of-type {\n",
       "        vertical-align: middle;\n",
       "    }\n",
       "\n",
       "    .dataframe tbody tr th {\n",
       "        vertical-align: top;\n",
       "    }\n",
       "\n",
       "    .dataframe thead th {\n",
       "        text-align: right;\n",
       "    }\n",
       "</style>\n",
       "<table border=\"1\" class=\"dataframe\">\n",
       "  <thead>\n",
       "    <tr style=\"text-align: right;\">\n",
       "      <th></th>\n",
       "      <th>Attribute</th>\n",
       "      <th>Value</th>\n",
       "    </tr>\n",
       "  </thead>\n",
       "  <tbody>\n",
       "    <tr>\n",
       "      <th>14</th>\n",
       "      <td>ประเภทรีโมท</td>\n",
       "      <td>NORMAL REMOTE</td>\n",
       "    </tr>\n",
       "    <tr>\n",
       "      <th>15</th>\n",
       "      <td>ความลึก TV รวมขาตั้ง (ซม.)</td>\n",
       "      <td>23.1</td>\n",
       "    </tr>\n",
       "    <tr>\n",
       "      <th>16</th>\n",
       "      <td>ความสูง TV รวมขาตั้ง (ซม.)</td>\n",
       "      <td>70.6</td>\n",
       "    </tr>\n",
       "    <tr>\n",
       "      <th>17</th>\n",
       "      <td>การรับประกัน (ปี)</td>\n",
       "      <td>3</td>\n",
       "    </tr>\n",
       "    <tr>\n",
       "      <th>18</th>\n",
       "      <td>NaN</td>\n",
       "      <td>NaN</td>\n",
       "    </tr>\n",
       "  </tbody>\n",
       "</table>\n",
       "</div>"
      ],
      "text/plain": [
       "                     Attribute          Value\n",
       "14                 ประเภทรีโมท  NORMAL REMOTE\n",
       "15  ความลึก TV รวมขาตั้ง (ซม.)           23.1\n",
       "16  ความสูง TV รวมขาตั้ง (ซม.)           70.6\n",
       "17           การรับประกัน (ปี)              3\n",
       "18                         NaN            NaN"
      ]
     },
     "execution_count": 321,
     "metadata": {},
     "output_type": "execute_result"
    }
   ],
   "source": [
    "df.tail()"
   ]
  },
  {
   "cell_type": "code",
   "execution_count": 322,
   "metadata": {},
   "outputs": [],
   "source": [
    "from langchain.embeddings import OpenAIEmbeddings\n",
    "from chromadb.utils import embedding_functions\n",
    "\n",
    "import os\n",
    "import openai\n",
    "from dotenv import load_dotenv\n",
    "import pandas as pd\n",
    "\n",
    "credential_path = \"../../.credential\"\n",
    "assert os.path.exists(credential_path)\n",
    "load_dotenv(credential_path)\n",
    "\n",
    "openai.api_key = os.environ[\"OPENAI_API_KEY\"]"
   ]
  },
  {
   "cell_type": "code",
   "execution_count": 323,
   "metadata": {},
   "outputs": [],
   "source": [
    "# print(response.choices[0]['message']['content'])\n",
    "# product_specification_paragraph = response.choices[0]['message']['content']\n",
    "# data_dict['product_specification'] = product_specification_paragraph"
   ]
  },
  {
   "cell_type": "code",
   "execution_count": null,
   "metadata": {},
   "outputs": [],
   "source": []
  },
  {
   "cell_type": "code",
   "execution_count": null,
   "metadata": {},
   "outputs": [],
   "source": []
  },
  {
   "cell_type": "code",
   "execution_count": 324,
   "metadata": {},
   "outputs": [
    {
     "name": "stdout",
     "output_type": "stream",
     "text": [
      "สเปคสินค้าของสินค้านี้มีดังนี้:\n",
      "\n",
      "- แบรนด์: SONY\n",
      "- ซีรีส์: X75\n",
      "- ความสูง: 66.2 ซม.\n",
      "- ความกว้าง: 112.7 ซม.\n",
      "- ความลึก: 7.7 ซม.\n",
      "- น้ำหนัก: 9.8 กก.\n",
      "- ขนาดหน้าจอ: 50 นิ้ว\n",
      "- ความละเอียดหน้าจอ: 4K (2160P)\n",
      "- ชนิดหน้าจอ: LED\n",
      "- DIGITAL TV BUILT IN: YES\n",
      "- SMART TV: ANDROID TV\n",
      "- HDR FORMAT: HDR10\n",
      "- HDMI (ช่อง): 3\n",
      "- USB (ช่อง): 2\n",
      "- ประเภทรีโมท: NORMAL REMOTE\n",
      "- ความลึก TV รวมขาตั้ง: 23.1 ซม.\n",
      "- ความสูง TV รวมขาตั้ง: 70.6 ซม.\n",
      "- การรับประกัน: 3 ปี\n"
     ]
    }
   ],
   "source": [
    "\n",
    "\n",
    "response = openai.ChatCompletion.create(\n",
    "  model=\"gpt-3.5-turbo\",\n",
    "  messages=[\n",
    "    {\n",
    "      \"role\": \"system\",\n",
    "      \"content\": \"You will be provided with a product specifications table in dict format, and your task is to convert it to paragraph format. in Thai language\"    },\n",
    "      # \"content\": \"You will be provided with a product specifications table in dict format, and your task is to convert it to narative explanation paragraph. in Thai language\"    },\n",
    "    {\n",
    "      \"role\": \"user\",\n",
    "      \"content\": f\"{df.to_dict()}\"\n",
    "    }\n",
    "  ],\n",
    "  temperature=0,\n",
    "  max_tokens=1500,\n",
    "  top_p=1,\n",
    "  frequency_penalty=0,\n",
    "  presence_penalty=0\n",
    ")\n",
    "try:\n",
    "  print(response.choices[0]['message']['content'])\n",
    "  product_specification_paragraph_thai = response.choices[0]['message']['content']\n",
    "except:\n",
    "  raise Exception(\"Error in response.choices[0]['message']['content']\")"
   ]
  },
  {
   "cell_type": "code",
   "execution_count": 325,
   "metadata": {},
   "outputs": [],
   "source": [
    "data_dict['product_specification_thai'] = product_specification_paragraph_thai"
   ]
  },
  {
   "cell_type": "code",
   "execution_count": 326,
   "metadata": {},
   "outputs": [
    {
     "data": {
      "text/plain": [
       "333"
      ]
     },
     "execution_count": 326,
     "metadata": {},
     "output_type": "execute_result"
    }
   ],
   "source": [
    "import tiktoken\n",
    "def count_token(text, model=\"gpt-3.5-turbo\"):\n",
    "    encoding = tiktoken.encoding_for_model(model)\n",
    "\n",
    "    return len(encoding.encode(text))\n",
    "count_token(product_specification_paragraph_thai)"
   ]
  },
  {
   "cell_type": "code",
   "execution_count": 327,
   "metadata": {},
   "outputs": [],
   "source": [
    "# product_info_list =data_dict['product_info_list']\n",
    "# product_info = \"\".join(product_info_list)\n",
    "# product_info"
   ]
  },
  {
   "cell_type": "code",
   "execution_count": 328,
   "metadata": {},
   "outputs": [],
   "source": [
    "# chunks = text_splitter.create_documents([product_info])\n",
    "# for chunk in chunks:\n",
    "#     print(count_token(chunk.page_content))\n",
    "#     print(chunk.page_content)"
   ]
  },
  {
   "cell_type": "code",
   "execution_count": 329,
   "metadata": {},
   "outputs": [
    {
     "data": {
      "text/plain": [
       "dict_keys(['original_price', 'discounted_price', 'product_desc', 'ขนาด', 'product_info_list', 'product_specification_thai'])"
      ]
     },
     "execution_count": 329,
     "metadata": {},
     "output_type": "execute_result"
    }
   ],
   "source": [
    "data_dict.keys()"
   ]
  },
  {
   "cell_type": "code",
   "execution_count": 330,
   "metadata": {},
   "outputs": [],
   "source": [
    "required_keys = ['original_price', 'discounted_price', 'product_desc',  'product_info_list', 'product_specification_thai']\n",
    "\n",
    "assert all(key in data_dict for key in required_keys) is True\n"
   ]
  },
  {
   "cell_type": "code",
   "execution_count": 331,
   "metadata": {},
   "outputs": [
    {
     "data": {
      "text/plain": [
       "{'original_price': '19,990 บาท',\n",
       " 'discounted_price': '17,540 บาท',\n",
       " 'product_desc': ['คมชัดระดับ 4K HDR ให้ภาพสมจริงขึ้นไปอีกระดับ ให้สีสัน ความมืด และความสว่างที่ถูกต้อง',\n",
       "  'ระบบประมวลผลภาพ 4K X-Reality PRO เพิ่มความคมชัด และ 4K Resolution เพื่อเพิ่มความละเอียดของภาพ',\n",
       "  'ชิปประมวลผล 4K processor X1 ที่ทำให้ภาพมีคุณภาพและมิติ'],\n",
       " 'ขนาด': ['55\"', '65\"', '50\"', '43\"'],\n",
       " 'product_info_list': ['แอลอีดีทีวี 50\" SONY (4K, LED, Google TV) KD-50X75K\\nในวันพักผ่อนอยู่บ้านสบาย ๆ จะมีอะไรที่ดีไปกว่าการมีทีวีตอบโจทย์ทุกความต้องการของคุณอย่าง LED TV รุ่น KD-50X75K ขนาด 50 นิ้ว จาก SONY ที่ให้ภาพคมชัดระดับ 4K HDR ขับเคลื่อนโดยชิปประมวลผล 4K HDR Processor X1 ที่มอบภาพที่มีคอนทราสต์สมจริง ให้ความมืด ความสว่างที่ถูกต้องตรงปก พร้อมชิปประมวลผล 4K processor X1 เพื่อให้ภาพมีมิติ และเพิ่มความสนุกอีกขั้นด้วยการรองรับระบบปฏิบัติการ Google TV, Chorome cast และ Apple Airplay โดยสามารถเชื่อมต่อกับมือถือและแทบเล็ตได้อย่างง่ายดาย สามารถเรียกดูภาพยนตร์และรายการทีวีจากสตรีมมิ่งของคุณทั้งหมดในที่เดียว',\n",
       "  'คุณสมบัติ\\n\\nคมชัดระดับ 4K HDR ให้ภาพสมจริงขึ้นไปอีกระดับ ให้สีสัน ความมืด และความสว่างที่ถูกต้องระบบประมวลผลภาพ 4K X-Reality PRO เพิ่มความคมชัด และ 4K Resolution เพื่อเพิ่มความละเอียดของภาพชิปประมวลผล 4K processor X1 ที่ทำให้ภาพมีคุณภาพและมิติระบบปฏิบัติการ Google TV สามารถออกคำสั่งทีวีด้วยเสียงภาษาไทยโดยไม่จำเป็นต้องใช้รีโมทสามารถเชื่อมเนื้อหาบนโทรศัพท์มือถือทั้ง Android และ IOS ในการรองรับ Chrome cast และ Apple Airplayสั่งงานเครื่องใช้ไฟฟ้าอื่นๆ ในบ้านที่รองรับระบบ IOT โดยผ่าน Apple Homekitจัดระเบียบสายต่าง ๆ ที่เชื่อมต่อกับทีวีให้ดูเป็นระเบียบสวยงามด้วย Cable managementความจุภายใน 16 GB (พื้นที่บางส่วนอาจถูกใช้งานเพื่อข้อมูลในส่วนของระบบปฏิบัติการและแอปพลิเคชั่น)กำลังเสียงของลำโพง 10W+10W และ รองรับ Digital TV (DVB –T2)',\n",
       "  'วิธีใช้งาน\\n\\nใช้สำหรับรับชมเพื่อความบันเทิง',\n",
       "  'คำแนะนำ\\n\\nศึกษาคู่มือการติดตั้ง และวิธีการใช้งานอย่างละเอียด',\n",
       "  'ข้อควรระวัง\\n\\nห้ามวางวัตถุในบริเวณที่เต็มไปด้วยของเหลวห้ามปิดกั้นหรือปิดช่องระบายอากาศด้วยผ้า หรือวัสดุอื่น ๆห้ามวางทีวีบนเตียง โซฟา พรมปูพื้น หรือวัสดุอื่นๆ ที่มีลักษณะคล้ายกันห้ามสัมผัส หรือเสียบสายไฟด้วยมือเปียก เพราะอาจทำให้เกิดไฟฟ้าช็อตได้ห้ามวางทีวีในตำแหน่งที่สายไฟสามารถหนีบ งอ บิด หรือจับได้ง่าย\\n\\n\\n\\nเงื่อนไขเพิ่มเติม\\nหมายเหตุ : สินค้าที่จัดส่ง และติดตั้งแล้ว ขอสงวนสิทธิ์ให้อยู่ในเงื่อนไขรับประกันซ่อมสินค้า ไม่รับเปลี่ยนหรือคืนสินค้าทุกกรณี'],\n",
       " 'product_specification_thai': 'สเปคสินค้าของสินค้านี้มีดังนี้:\\n\\n- แบรนด์: SONY\\n- ซีรีส์: X75\\n- ความสูง: 66.2 ซม.\\n- ความกว้าง: 112.7 ซม.\\n- ความลึก: 7.7 ซม.\\n- น้ำหนัก: 9.8 กก.\\n- ขนาดหน้าจอ: 50 นิ้ว\\n- ความละเอียดหน้าจอ: 4K (2160P)\\n- ชนิดหน้าจอ: LED\\n- DIGITAL TV BUILT IN: YES\\n- SMART TV: ANDROID TV\\n- HDR FORMAT: HDR10\\n- HDMI (ช่อง): 3\\n- USB (ช่อง): 2\\n- ประเภทรีโมท: NORMAL REMOTE\\n- ความลึก TV รวมขาตั้ง: 23.1 ซม.\\n- ความสูง TV รวมขาตั้ง: 70.6 ซม.\\n- การรับประกัน: 3 ปี'}"
      ]
     },
     "execution_count": 331,
     "metadata": {},
     "output_type": "execute_result"
    }
   ],
   "source": [
    "data_dict"
   ]
  },
  {
   "cell_type": "code",
   "execution_count": 332,
   "metadata": {},
   "outputs": [
    {
     "name": "stdout",
     "output_type": "stream",
     "text": [
      "7\n",
      "7\n",
      "192\n",
      "8\n",
      "1560\n",
      "333\n"
     ]
    }
   ],
   "source": [
    "for value in data_dict.values():\n",
    "    try:\n",
    "        print(count_token(value))\n",
    "    except:\n",
    "        print(count_token(\"\".join(value)))\n"
   ]
  },
  {
   "cell_type": "code",
   "execution_count": 333,
   "metadata": {},
   "outputs": [
    {
     "data": {
      "text/plain": [
       "'../preprocessed_data/tv_sony'"
      ]
     },
     "execution_count": 333,
     "metadata": {},
     "output_type": "execute_result"
    }
   ],
   "source": [
    "save_folder = f\"../preprocessed_data/{product_id}\"\n",
    "os.makedirs(save_folder, exist_ok=True)\n",
    "save_folder"
   ]
  },
  {
   "cell_type": "code",
   "execution_count": 334,
   "metadata": {},
   "outputs": [],
   "source": [
    "website_key_mapping_to_thai ={\n",
    "    'original_price': 'ราคาเริ่มต้น',\n",
    "    'discounted_price': 'ราคาลด/ราคาโปรโมชั่น',\n",
    "    'product_desc': 'คำอธิบายสินค้า',\n",
    "    'สี': 'สี',\n",
    "    'ขนาด': 'ขนาด',\n",
    "    'product_info_list': 'รายละเอียดสินค้า',\n",
    "    'product_specification_thai': 'ข้อมูลสินค้า'\n",
    "}"
   ]
  },
  {
   "cell_type": "code",
   "execution_count": 335,
   "metadata": {},
   "outputs": [
    {
     "data": {
      "text/plain": [
       "{'ราคาเริ่มต้น': '19,990 บาท',\n",
       " 'ราคาลด/ราคาโปรโมชั่น': '17,540 บาท',\n",
       " 'คำอธิบายสินค้า': ['คมชัดระดับ 4K HDR ให้ภาพสมจริงขึ้นไปอีกระดับ ให้สีสัน ความมืด และความสว่างที่ถูกต้อง',\n",
       "  'ระบบประมวลผลภาพ 4K X-Reality PRO เพิ่มความคมชัด และ 4K Resolution เพื่อเพิ่มความละเอียดของภาพ',\n",
       "  'ชิปประมวลผล 4K processor X1 ที่ทำให้ภาพมีคุณภาพและมิติ'],\n",
       " 'ขนาด': ['55\"', '65\"', '50\"', '43\"'],\n",
       " 'รายละเอียดสินค้า': ['แอลอีดีทีวี 50\" SONY (4K, LED, Google TV) KD-50X75K\\nในวันพักผ่อนอยู่บ้านสบาย ๆ จะมีอะไรที่ดีไปกว่าการมีทีวีตอบโจทย์ทุกความต้องการของคุณอย่าง LED TV รุ่น KD-50X75K ขนาด 50 นิ้ว จาก SONY ที่ให้ภาพคมชัดระดับ 4K HDR ขับเคลื่อนโดยชิปประมวลผล 4K HDR Processor X1 ที่มอบภาพที่มีคอนทราสต์สมจริง ให้ความมืด ความสว่างที่ถูกต้องตรงปก พร้อมชิปประมวลผล 4K processor X1 เพื่อให้ภาพมีมิติ และเพิ่มความสนุกอีกขั้นด้วยการรองรับระบบปฏิบัติการ Google TV, Chorome cast และ Apple Airplay โดยสามารถเชื่อมต่อกับมือถือและแทบเล็ตได้อย่างง่ายดาย สามารถเรียกดูภาพยนตร์และรายการทีวีจากสตรีมมิ่งของคุณทั้งหมดในที่เดียว',\n",
       "  'คุณสมบัติ\\n\\nคมชัดระดับ 4K HDR ให้ภาพสมจริงขึ้นไปอีกระดับ ให้สีสัน ความมืด และความสว่างที่ถูกต้องระบบประมวลผลภาพ 4K X-Reality PRO เพิ่มความคมชัด และ 4K Resolution เพื่อเพิ่มความละเอียดของภาพชิปประมวลผล 4K processor X1 ที่ทำให้ภาพมีคุณภาพและมิติระบบปฏิบัติการ Google TV สามารถออกคำสั่งทีวีด้วยเสียงภาษาไทยโดยไม่จำเป็นต้องใช้รีโมทสามารถเชื่อมเนื้อหาบนโทรศัพท์มือถือทั้ง Android และ IOS ในการรองรับ Chrome cast และ Apple Airplayสั่งงานเครื่องใช้ไฟฟ้าอื่นๆ ในบ้านที่รองรับระบบ IOT โดยผ่าน Apple Homekitจัดระเบียบสายต่าง ๆ ที่เชื่อมต่อกับทีวีให้ดูเป็นระเบียบสวยงามด้วย Cable managementความจุภายใน 16 GB (พื้นที่บางส่วนอาจถูกใช้งานเพื่อข้อมูลในส่วนของระบบปฏิบัติการและแอปพลิเคชั่น)กำลังเสียงของลำโพง 10W+10W และ รองรับ Digital TV (DVB –T2)',\n",
       "  'วิธีใช้งาน\\n\\nใช้สำหรับรับชมเพื่อความบันเทิง',\n",
       "  'คำแนะนำ\\n\\nศึกษาคู่มือการติดตั้ง และวิธีการใช้งานอย่างละเอียด',\n",
       "  'ข้อควรระวัง\\n\\nห้ามวางวัตถุในบริเวณที่เต็มไปด้วยของเหลวห้ามปิดกั้นหรือปิดช่องระบายอากาศด้วยผ้า หรือวัสดุอื่น ๆห้ามวางทีวีบนเตียง โซฟา พรมปูพื้น หรือวัสดุอื่นๆ ที่มีลักษณะคล้ายกันห้ามสัมผัส หรือเสียบสายไฟด้วยมือเปียก เพราะอาจทำให้เกิดไฟฟ้าช็อตได้ห้ามวางทีวีในตำแหน่งที่สายไฟสามารถหนีบ งอ บิด หรือจับได้ง่าย\\n\\n\\n\\nเงื่อนไขเพิ่มเติม\\nหมายเหตุ : สินค้าที่จัดส่ง และติดตั้งแล้ว ขอสงวนสิทธิ์ให้อยู่ในเงื่อนไขรับประกันซ่อมสินค้า ไม่รับเปลี่ยนหรือคืนสินค้าทุกกรณี'],\n",
       " 'ข้อมูลสินค้า': 'สเปคสินค้าของสินค้านี้มีดังนี้:\\n\\n- แบรนด์: SONY\\n- ซีรีส์: X75\\n- ความสูง: 66.2 ซม.\\n- ความกว้าง: 112.7 ซม.\\n- ความลึก: 7.7 ซม.\\n- น้ำหนัก: 9.8 กก.\\n- ขนาดหน้าจอ: 50 นิ้ว\\n- ความละเอียดหน้าจอ: 4K (2160P)\\n- ชนิดหน้าจอ: LED\\n- DIGITAL TV BUILT IN: YES\\n- SMART TV: ANDROID TV\\n- HDR FORMAT: HDR10\\n- HDMI (ช่อง): 3\\n- USB (ช่อง): 2\\n- ประเภทรีโมท: NORMAL REMOTE\\n- ความลึก TV รวมขาตั้ง: 23.1 ซม.\\n- ความสูง TV รวมขาตั้ง: 70.6 ซม.\\n- การรับประกัน: 3 ปี'}"
      ]
     },
     "execution_count": 335,
     "metadata": {},
     "output_type": "execute_result"
    }
   ],
   "source": [
    "data_dict_thai = {}\n",
    "for key,value in data_dict.items():\n",
    "    if key in website_key_mapping_to_thai:\n",
    "        data_dict_thai[website_key_mapping_to_thai[key]] = value\n",
    "data_dict_thai"
   ]
  },
  {
   "cell_type": "code",
   "execution_count": 336,
   "metadata": {},
   "outputs": [
    {
     "name": "stdout",
     "output_type": "stream",
     "text": [
      "key ราคาเริ่มต้น 7\n",
      "key ราคาลด/ราคาโปรโมชั่น 7\n",
      "key คำอธิบายสินค้า 192\n",
      "key ขนาด 8\n",
      "key รายละเอียดสินค้า 1560\n",
      "key ข้อมูลสินค้า 333\n"
     ]
    }
   ],
   "source": [
    "for key,value in data_dict_thai.items():\n",
    "    try:\n",
    "        print(\"key\",key,count_token(value))\n",
    "    except:\n",
    "        print(\"key\",key,count_token(\"\".join(value)))\n"
   ]
  },
  {
   "cell_type": "code",
   "execution_count": 337,
   "metadata": {},
   "outputs": [
    {
     "name": "stdout",
     "output_type": "stream",
     "text": [
      "ราคาเริ่มต้น\n",
      "ราคาลด/ราคาโปรโมชั่น\n",
      "ขนาด\n",
      "คำอธิบายสินค้า\n",
      "ข้อมูลสินค้า\n",
      "รายละเอียดสินค้า\n"
     ]
    }
   ],
   "source": [
    "sorted_keys = sorted(data_dict_thai.keys(), key=lambda k:  count_token(data_dict_thai[k])if isinstance(data_dict_thai[k],str) else count_token(\"\".join(data_dict_thai[k])))\n",
    "\n",
    "# Print the sorted keys\n",
    "for key in sorted_keys:\n",
    "    print(key)\n"
   ]
  },
  {
   "cell_type": "code",
   "execution_count": 338,
   "metadata": {},
   "outputs": [],
   "source": [
    "# # Function to count tokens in Thai text\n",
    "# def count_tokens(text):\n",
    "#     tokens = text.split()  # Split the text into tokens (assuming space as a separator)\n",
    "#     return len(tokens)\n",
    "\n",
    "accumulated_token = 0\n",
    "threshold_split_page = 500\n",
    "page_data = \"\"\n",
    "page_num = 0\n",
    "\n",
    "for key in sorted_keys:\n",
    "    value = data_dict_thai[key]\n",
    "\n",
    "    if isinstance(value, list):\n",
    "        # If the value is a list, iterate over its items\n",
    "        for item in value:\n",
    "            token = count_token(item)\n",
    "            accumulated_token += token\n",
    "\n",
    "            # Check if accumulated tokens exceed the threshold\n",
    "            if accumulated_token > threshold_split_page:\n",
    "                accumulated_token = 0\n",
    "                page_num += 1\n",
    "                with open(f\"{save_folder}/thai_{page_num}.txt\", \"w\") as f:\n",
    "                    f.write(page_data)\n",
    "                page_data = \"\"\n",
    "\n",
    "            page_data += f\"{key}: {item}\\n\"\n",
    "    elif isinstance(value, str):\n",
    "        token = count_token(value)\n",
    "        accumulated_token += token\n",
    "\n",
    "        # Check if accumulated tokens exceed the threshold\n",
    "        if accumulated_token > threshold_split_page:\n",
    "            accumulated_token = 0\n",
    "            page_num += 1\n",
    "            with open(f\"{save_folder}/thai_{page_num}.txt\", \"w\") as f:\n",
    "                f.write(page_data)\n",
    "            page_data = \"\"\n",
    "\n",
    "        page_data += f\"{key}: {value}\\n\"\n",
    "    else:\n",
    "        raise Exception(\"Not supported type\")\n",
    "\n",
    "# Save any remaining data to the last page\n",
    "if accumulated_token > 0:\n",
    "    page_num += 1\n",
    "    with open(f\"{save_folder}/thai_{page_num}.txt\", \"w\") as f:\n",
    "        f.write(page_data)\n"
   ]
  },
  {
   "cell_type": "code",
   "execution_count": null,
   "metadata": {},
   "outputs": [],
   "source": []
  }
 ],
 "metadata": {
  "kernelspec": {
   "display_name": "Python 3",
   "language": "python",
   "name": "python3"
  },
  "language_info": {
   "codemirror_mode": {
    "name": "ipython",
    "version": 3
   },
   "file_extension": ".py",
   "mimetype": "text/x-python",
   "name": "python",
   "nbconvert_exporter": "python",
   "pygments_lexer": "ipython3",
   "version": "3.10.13"
  },
  "orig_nbformat": 4
 },
 "nbformat": 4,
 "nbformat_minor": 2
}
